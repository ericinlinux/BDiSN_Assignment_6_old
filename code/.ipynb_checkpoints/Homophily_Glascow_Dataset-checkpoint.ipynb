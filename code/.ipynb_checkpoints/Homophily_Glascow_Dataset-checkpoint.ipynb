{
 "cells": [
  {
   "cell_type": "code",
   "execution_count": 1,
   "metadata": {
    "collapsed": true
   },
   "outputs": [],
   "source": [
    "%matplotlib inline\n",
    "import pandas as pd\n",
    "import numpy as np\n",
    "import matplotlib.pyplot as plt"
   ]
  },
  {
   "cell_type": "markdown",
   "metadata": {},
   "source": [
    "### Initial values for smoking behavior\n",
    "\n",
    "Take the data with the information about smoke behavior."
   ]
  },
  {
   "cell_type": "code",
   "execution_count": 2,
   "metadata": {
    "collapsed": false
   },
   "outputs": [
    {
     "data": {
      "text/html": [
       "<div>\n",
       "<table border=\"1\" class=\"dataframe\">\n",
       "  <thead>\n",
       "    <tr style=\"text-align: right;\">\n",
       "      <th></th>\n",
       "      <th>t1</th>\n",
       "      <th>t2</th>\n",
       "      <th>t3</th>\n",
       "    </tr>\n",
       "  </thead>\n",
       "  <tbody>\n",
       "    <tr>\n",
       "      <th>s001</th>\n",
       "      <td>0.5</td>\n",
       "      <td>0.1</td>\n",
       "      <td>0.1</td>\n",
       "    </tr>\n",
       "    <tr>\n",
       "      <th>s002</th>\n",
       "      <td>0.1</td>\n",
       "      <td>0.1</td>\n",
       "      <td>0.1</td>\n",
       "    </tr>\n",
       "    <tr>\n",
       "      <th>s003</th>\n",
       "      <td>0.9</td>\n",
       "      <td>0.9</td>\n",
       "      <td>0.9</td>\n",
       "    </tr>\n",
       "    <tr>\n",
       "      <th>s004</th>\n",
       "      <td>0.1</td>\n",
       "      <td>0.1</td>\n",
       "      <td>0.1</td>\n",
       "    </tr>\n",
       "    <tr>\n",
       "      <th>s005</th>\n",
       "      <td>0.1</td>\n",
       "      <td>0.1</td>\n",
       "      <td>0.1</td>\n",
       "    </tr>\n",
       "  </tbody>\n",
       "</table>\n",
       "</div>"
      ],
      "text/plain": [
       "       t1   t2   t3\n",
       "s001  0.5  0.1  0.1\n",
       "s002  0.1  0.1  0.1\n",
       "s003  0.9  0.9  0.9\n",
       "s004  0.1  0.1  0.1\n",
       "s005  0.1  0.1  0.1"
      ]
     },
     "execution_count": 2,
     "metadata": {},
     "output_type": "execute_result"
    }
   ],
   "source": [
    "tobacco = pd.read_csv('raw_data/tobacco.csv', index_col=[0])\n",
    "tobacco.replace(1,0.1,inplace=True)\n",
    "tobacco.replace(2,0.5,inplace=True)\n",
    "tobacco.replace(3,0.9,inplace=True)\n",
    "tobacco.head(5)"
   ]
  },
  {
   "cell_type": "code",
   "execution_count": null,
   "metadata": {
    "collapsed": false
   },
   "outputs": [],
   "source": [
    "tobacco.ix['s048']"
   ]
  },
  {
   "cell_type": "code",
   "execution_count": null,
   "metadata": {
    "collapsed": false
   },
   "outputs": [],
   "source": [
    "'s048' in list(tobacco[pd.isnull(tobacco['t1'])].index.values)"
   ]
  },
  {
   "cell_type": "code",
   "execution_count": 3,
   "metadata": {
    "collapsed": false
   },
   "outputs": [],
   "source": [
    "# Get the list of nodes with nan values for tobacco\n",
    "list_nans = list(tobacco[pd.isnull(tobacco['t1'])].index.values)\n",
    "list_nans = list_nans + list(tobacco[pd.isnull(tobacco['t2'])].index.values)\n",
    "list_nans = list_nans + list(tobacco[pd.isnull(tobacco['t3'])].index.values)"
   ]
  },
  {
   "cell_type": "code",
   "execution_count": null,
   "metadata": {
    "collapsed": false
   },
   "outputs": [],
   "source": [
    "'s048' in list_nans"
   ]
  },
  {
   "cell_type": "code",
   "execution_count": 4,
   "metadata": {
    "collapsed": false
   },
   "outputs": [],
   "source": [
    "status = tobacco.dropna()['t1']\n",
    "status_temp = status.to_dict()\n",
    "status_dict = {}\n",
    "for key,value in status_temp.items():\n",
    "    status_dict[key] = float(value)\n",
    "#type(status_dict['s048'])"
   ]
  },
  {
   "cell_type": "code",
   "execution_count": null,
   "metadata": {
    "collapsed": false
   },
   "outputs": [],
   "source": [
    "status_dict['s002']"
   ]
  },
  {
   "cell_type": "markdown",
   "metadata": {},
   "source": [
    "### Loading the networks\n",
    "\n",
    "The first step is to read the raw data with the friendship levels and convert them to our model's format, normalizing it."
   ]
  },
  {
   "cell_type": "code",
   "execution_count": 5,
   "metadata": {
    "collapsed": false
   },
   "outputs": [
    {
     "data": {
      "text/html": [
       "<div>\n",
       "<table border=\"1\" class=\"dataframe\">\n",
       "  <thead>\n",
       "    <tr style=\"text-align: right;\">\n",
       "      <th></th>\n",
       "      <th>s001</th>\n",
       "      <th>s002</th>\n",
       "      <th>s003</th>\n",
       "      <th>s004</th>\n",
       "      <th>s005</th>\n",
       "      <th>s006</th>\n",
       "      <th>s007</th>\n",
       "      <th>s008</th>\n",
       "      <th>s009</th>\n",
       "      <th>s010</th>\n",
       "      <th>...</th>\n",
       "      <th>s151</th>\n",
       "      <th>s152</th>\n",
       "      <th>s153</th>\n",
       "      <th>s154</th>\n",
       "      <th>s155</th>\n",
       "      <th>s156</th>\n",
       "      <th>s157</th>\n",
       "      <th>s158</th>\n",
       "      <th>s159</th>\n",
       "      <th>s160</th>\n",
       "    </tr>\n",
       "  </thead>\n",
       "  <tbody>\n",
       "    <tr>\n",
       "      <th>s001</th>\n",
       "      <td>0.0</td>\n",
       "      <td>0.0</td>\n",
       "      <td>0.0</td>\n",
       "      <td>0.0</td>\n",
       "      <td>0.0</td>\n",
       "      <td>0.0</td>\n",
       "      <td>0.0</td>\n",
       "      <td>0.0</td>\n",
       "      <td>0.0</td>\n",
       "      <td>0.0</td>\n",
       "      <td>...</td>\n",
       "      <td>0.0</td>\n",
       "      <td>0.0</td>\n",
       "      <td>10</td>\n",
       "      <td>10</td>\n",
       "      <td>10</td>\n",
       "      <td>10</td>\n",
       "      <td>0.0</td>\n",
       "      <td>10</td>\n",
       "      <td>10</td>\n",
       "      <td>10</td>\n",
       "    </tr>\n",
       "    <tr>\n",
       "      <th>s002</th>\n",
       "      <td>0.0</td>\n",
       "      <td>0.0</td>\n",
       "      <td>0.0</td>\n",
       "      <td>0.0</td>\n",
       "      <td>0.0</td>\n",
       "      <td>0.0</td>\n",
       "      <td>0.0</td>\n",
       "      <td>0.0</td>\n",
       "      <td>0.0</td>\n",
       "      <td>0.0</td>\n",
       "      <td>...</td>\n",
       "      <td>0.0</td>\n",
       "      <td>0.0</td>\n",
       "      <td>10</td>\n",
       "      <td>10</td>\n",
       "      <td>10</td>\n",
       "      <td>10</td>\n",
       "      <td>0.0</td>\n",
       "      <td>10</td>\n",
       "      <td>10</td>\n",
       "      <td>10</td>\n",
       "    </tr>\n",
       "    <tr>\n",
       "      <th>s003</th>\n",
       "      <td>0.0</td>\n",
       "      <td>0.0</td>\n",
       "      <td>0.0</td>\n",
       "      <td>0.0</td>\n",
       "      <td>0.0</td>\n",
       "      <td>0.0</td>\n",
       "      <td>0.0</td>\n",
       "      <td>0.0</td>\n",
       "      <td>0.0</td>\n",
       "      <td>0.0</td>\n",
       "      <td>...</td>\n",
       "      <td>0.0</td>\n",
       "      <td>0.0</td>\n",
       "      <td>10</td>\n",
       "      <td>10</td>\n",
       "      <td>10</td>\n",
       "      <td>10</td>\n",
       "      <td>0.0</td>\n",
       "      <td>10</td>\n",
       "      <td>10</td>\n",
       "      <td>10</td>\n",
       "    </tr>\n",
       "    <tr>\n",
       "      <th>s004</th>\n",
       "      <td>0.0</td>\n",
       "      <td>0.0</td>\n",
       "      <td>0.0</td>\n",
       "      <td>0.0</td>\n",
       "      <td>0.0</td>\n",
       "      <td>0.0</td>\n",
       "      <td>0.0</td>\n",
       "      <td>2.0</td>\n",
       "      <td>0.0</td>\n",
       "      <td>0.0</td>\n",
       "      <td>...</td>\n",
       "      <td>0.0</td>\n",
       "      <td>0.0</td>\n",
       "      <td>10</td>\n",
       "      <td>10</td>\n",
       "      <td>10</td>\n",
       "      <td>10</td>\n",
       "      <td>0.0</td>\n",
       "      <td>10</td>\n",
       "      <td>10</td>\n",
       "      <td>10</td>\n",
       "    </tr>\n",
       "    <tr>\n",
       "      <th>s005</th>\n",
       "      <td>0.0</td>\n",
       "      <td>0.0</td>\n",
       "      <td>0.0</td>\n",
       "      <td>0.0</td>\n",
       "      <td>0.0</td>\n",
       "      <td>2.0</td>\n",
       "      <td>0.0</td>\n",
       "      <td>0.0</td>\n",
       "      <td>0.0</td>\n",
       "      <td>2.0</td>\n",
       "      <td>...</td>\n",
       "      <td>0.0</td>\n",
       "      <td>0.0</td>\n",
       "      <td>10</td>\n",
       "      <td>10</td>\n",
       "      <td>10</td>\n",
       "      <td>10</td>\n",
       "      <td>0.0</td>\n",
       "      <td>10</td>\n",
       "      <td>10</td>\n",
       "      <td>10</td>\n",
       "    </tr>\n",
       "  </tbody>\n",
       "</table>\n",
       "<p>5 rows × 160 columns</p>\n",
       "</div>"
      ],
      "text/plain": [
       "      s001  s002  s003  s004  s005  s006  s007  s008  s009  s010  ...   s151  \\\n",
       "s001   0.0   0.0   0.0   0.0   0.0   0.0   0.0   0.0   0.0   0.0  ...    0.0   \n",
       "s002   0.0   0.0   0.0   0.0   0.0   0.0   0.0   0.0   0.0   0.0  ...    0.0   \n",
       "s003   0.0   0.0   0.0   0.0   0.0   0.0   0.0   0.0   0.0   0.0  ...    0.0   \n",
       "s004   0.0   0.0   0.0   0.0   0.0   0.0   0.0   2.0   0.0   0.0  ...    0.0   \n",
       "s005   0.0   0.0   0.0   0.0   0.0   2.0   0.0   0.0   0.0   2.0  ...    0.0   \n",
       "\n",
       "      s152  s153  s154  s155  s156  s157  s158  s159  s160  \n",
       "s001   0.0    10    10    10    10   0.0    10    10    10  \n",
       "s002   0.0    10    10    10    10   0.0    10    10    10  \n",
       "s003   0.0    10    10    10    10   0.0    10    10    10  \n",
       "s004   0.0    10    10    10    10   0.0    10    10    10  \n",
       "s005   0.0    10    10    10    10   0.0    10    10    10  \n",
       "\n",
       "[5 rows x 160 columns]"
      ]
     },
     "execution_count": 5,
     "metadata": {},
     "output_type": "execute_result"
    }
   ],
   "source": [
    "friendship1 = pd.read_csv('raw_data/friendship.1.csv', index_col=[0])\n",
    "friendship1.head()"
   ]
  },
  {
   "cell_type": "code",
   "execution_count": 6,
   "metadata": {
    "collapsed": false
   },
   "outputs": [
    {
     "data": {
      "text/html": [
       "<div>\n",
       "<table border=\"1\" class=\"dataframe\">\n",
       "  <thead>\n",
       "    <tr style=\"text-align: right;\">\n",
       "      <th></th>\n",
       "      <th>s001</th>\n",
       "      <th>s002</th>\n",
       "      <th>s003</th>\n",
       "      <th>s004</th>\n",
       "      <th>s005</th>\n",
       "      <th>s006</th>\n",
       "      <th>s007</th>\n",
       "      <th>s008</th>\n",
       "      <th>s009</th>\n",
       "      <th>s010</th>\n",
       "      <th>...</th>\n",
       "      <th>s151</th>\n",
       "      <th>s152</th>\n",
       "      <th>s153</th>\n",
       "      <th>s154</th>\n",
       "      <th>s155</th>\n",
       "      <th>s156</th>\n",
       "      <th>s157</th>\n",
       "      <th>s158</th>\n",
       "      <th>s159</th>\n",
       "      <th>s160</th>\n",
       "    </tr>\n",
       "  </thead>\n",
       "  <tbody>\n",
       "    <tr>\n",
       "      <th>s001</th>\n",
       "      <td>0.1</td>\n",
       "      <td>0.1</td>\n",
       "      <td>0.1</td>\n",
       "      <td>0.1</td>\n",
       "      <td>0.1</td>\n",
       "      <td>0.1</td>\n",
       "      <td>0.1</td>\n",
       "      <td>0.1</td>\n",
       "      <td>0.1</td>\n",
       "      <td>0.1</td>\n",
       "      <td>...</td>\n",
       "      <td>0.1</td>\n",
       "      <td>0.1</td>\n",
       "      <td>0</td>\n",
       "      <td>0</td>\n",
       "      <td>0</td>\n",
       "      <td>0</td>\n",
       "      <td>0.1</td>\n",
       "      <td>0</td>\n",
       "      <td>0</td>\n",
       "      <td>0</td>\n",
       "    </tr>\n",
       "    <tr>\n",
       "      <th>s002</th>\n",
       "      <td>0.1</td>\n",
       "      <td>0.1</td>\n",
       "      <td>0.1</td>\n",
       "      <td>0.1</td>\n",
       "      <td>0.1</td>\n",
       "      <td>0.1</td>\n",
       "      <td>0.1</td>\n",
       "      <td>0.1</td>\n",
       "      <td>0.1</td>\n",
       "      <td>0.1</td>\n",
       "      <td>...</td>\n",
       "      <td>0.1</td>\n",
       "      <td>0.1</td>\n",
       "      <td>0</td>\n",
       "      <td>0</td>\n",
       "      <td>0</td>\n",
       "      <td>0</td>\n",
       "      <td>0.1</td>\n",
       "      <td>0</td>\n",
       "      <td>0</td>\n",
       "      <td>0</td>\n",
       "    </tr>\n",
       "    <tr>\n",
       "      <th>s003</th>\n",
       "      <td>0.1</td>\n",
       "      <td>0.1</td>\n",
       "      <td>0.1</td>\n",
       "      <td>0.1</td>\n",
       "      <td>0.1</td>\n",
       "      <td>0.1</td>\n",
       "      <td>0.1</td>\n",
       "      <td>0.1</td>\n",
       "      <td>0.1</td>\n",
       "      <td>0.1</td>\n",
       "      <td>...</td>\n",
       "      <td>0.1</td>\n",
       "      <td>0.1</td>\n",
       "      <td>0</td>\n",
       "      <td>0</td>\n",
       "      <td>0</td>\n",
       "      <td>0</td>\n",
       "      <td>0.1</td>\n",
       "      <td>0</td>\n",
       "      <td>0</td>\n",
       "      <td>0</td>\n",
       "    </tr>\n",
       "    <tr>\n",
       "      <th>s004</th>\n",
       "      <td>0.1</td>\n",
       "      <td>0.1</td>\n",
       "      <td>0.1</td>\n",
       "      <td>0.1</td>\n",
       "      <td>0.1</td>\n",
       "      <td>0.1</td>\n",
       "      <td>0.1</td>\n",
       "      <td>0.5</td>\n",
       "      <td>0.1</td>\n",
       "      <td>0.1</td>\n",
       "      <td>...</td>\n",
       "      <td>0.1</td>\n",
       "      <td>0.1</td>\n",
       "      <td>0</td>\n",
       "      <td>0</td>\n",
       "      <td>0</td>\n",
       "      <td>0</td>\n",
       "      <td>0.1</td>\n",
       "      <td>0</td>\n",
       "      <td>0</td>\n",
       "      <td>0</td>\n",
       "    </tr>\n",
       "    <tr>\n",
       "      <th>s005</th>\n",
       "      <td>0.1</td>\n",
       "      <td>0.1</td>\n",
       "      <td>0.1</td>\n",
       "      <td>0.1</td>\n",
       "      <td>0.1</td>\n",
       "      <td>0.5</td>\n",
       "      <td>0.1</td>\n",
       "      <td>0.1</td>\n",
       "      <td>0.1</td>\n",
       "      <td>0.5</td>\n",
       "      <td>...</td>\n",
       "      <td>0.1</td>\n",
       "      <td>0.1</td>\n",
       "      <td>0</td>\n",
       "      <td>0</td>\n",
       "      <td>0</td>\n",
       "      <td>0</td>\n",
       "      <td>0.1</td>\n",
       "      <td>0</td>\n",
       "      <td>0</td>\n",
       "      <td>0</td>\n",
       "    </tr>\n",
       "  </tbody>\n",
       "</table>\n",
       "<p>5 rows × 160 columns</p>\n",
       "</div>"
      ],
      "text/plain": [
       "      s001  s002  s003  s004  s005  s006  s007  s008  s009  s010  ...   s151  \\\n",
       "s001   0.1   0.1   0.1   0.1   0.1   0.1   0.1   0.1   0.1   0.1  ...    0.1   \n",
       "s002   0.1   0.1   0.1   0.1   0.1   0.1   0.1   0.1   0.1   0.1  ...    0.1   \n",
       "s003   0.1   0.1   0.1   0.1   0.1   0.1   0.1   0.1   0.1   0.1  ...    0.1   \n",
       "s004   0.1   0.1   0.1   0.1   0.1   0.1   0.1   0.5   0.1   0.1  ...    0.1   \n",
       "s005   0.1   0.1   0.1   0.1   0.1   0.5   0.1   0.1   0.1   0.5  ...    0.1   \n",
       "\n",
       "      s152  s153  s154  s155  s156  s157  s158  s159  s160  \n",
       "s001   0.1     0     0     0     0   0.1     0     0     0  \n",
       "s002   0.1     0     0     0     0   0.1     0     0     0  \n",
       "s003   0.1     0     0     0     0   0.1     0     0     0  \n",
       "s004   0.1     0     0     0     0   0.1     0     0     0  \n",
       "s005   0.1     0     0     0     0   0.1     0     0     0  \n",
       "\n",
       "[5 rows x 160 columns]"
      ]
     },
     "execution_count": 6,
     "metadata": {},
     "output_type": "execute_result"
    }
   ],
   "source": [
    "friendship1.replace(1, 0.9, inplace=True)\n",
    "friendship1.replace(2, 0.5, inplace=True)\n",
    "friendship1.replace(0, 0.1, inplace=True)\n",
    "friendship1.replace(10, 0, inplace=True)\n",
    "friendship1.head()"
   ]
  },
  {
   "cell_type": "markdown",
   "metadata": {},
   "source": [
    "#### Cleaning up the list of nans"
   ]
  },
  {
   "cell_type": "code",
   "execution_count": 7,
   "metadata": {
    "collapsed": false
   },
   "outputs": [],
   "source": [
    "# df.drop(['x','y'], axis=1)\n",
    "network = friendship1.drop(list_nans).drop(list_nans, axis=1)"
   ]
  },
  {
   "cell_type": "code",
   "execution_count": 8,
   "metadata": {
    "collapsed": false
   },
   "outputs": [],
   "source": [
    "#network.isnull()\n",
    "network = network.fillna(0)\n",
    "#network\n",
    "#tobacco[pd.isnull(tobacco['t3'])].index.values\n",
    "#network[pd.isnull(network.columns)]"
   ]
  },
  {
   "cell_type": "code",
   "execution_count": 9,
   "metadata": {
    "collapsed": false
   },
   "outputs": [],
   "source": [
    "#network.ix['s004']"
   ]
  },
  {
   "cell_type": "code",
   "execution_count": null,
   "metadata": {
    "collapsed": false
   },
   "outputs": [],
   "source": [
    "type(network.values[0][0])"
   ]
  },
  {
   "cell_type": "markdown",
   "metadata": {},
   "source": [
    "### Set up\n",
    "\n",
    "Setting up the initial values for time, number of agents"
   ]
  },
  {
   "cell_type": "code",
   "execution_count": 10,
   "metadata": {
    "collapsed": true
   },
   "outputs": [],
   "source": [
    "time = 50"
   ]
  },
  {
   "cell_type": "markdown",
   "metadata": {},
   "source": [
    "### Creating the network for gephi\n",
    "\n",
    "Creates a graph from the adjacency matrix"
   ]
  },
  {
   "cell_type": "code",
   "execution_count": 11,
   "metadata": {
    "collapsed": true
   },
   "outputs": [],
   "source": [
    "import networkx as nx"
   ]
  },
  {
   "cell_type": "code",
   "execution_count": 12,
   "metadata": {
    "collapsed": false
   },
   "outputs": [
    {
     "data": {
      "text/plain": [
       "array([[ 0.1       ,  0.1       ,  0.1       , ...,  0.1       ,\n",
       "         0.1       ,  0.1       ],\n",
       "       [ 0.1       ,  0.1       ,  0.1       , ...,  0.1       ,\n",
       "         0.1       ,  0.1       ],\n",
       "       [ 0.1       ,  0.1       ,  0.1       , ...,  0.1       ,\n",
       "         0.1       ,  0.1       ],\n",
       "       ..., \n",
       "       [ 0.1       ,  0.1       ,  0.1       , ...,  0.1       ,\n",
       "         0.89999998,  0.1       ],\n",
       "       [ 0.1       ,  0.1       ,  0.1       , ...,  0.89999998,\n",
       "         0.1       ,  0.1       ],\n",
       "       [ 0.1       ,  0.1       ,  0.1       , ...,  0.1       ,\n",
       "         0.1       ,  0.1       ]], dtype=float32)"
      ]
     },
     "execution_count": 12,
     "metadata": {},
     "output_type": "execute_result"
    }
   ],
   "source": [
    "network_ = (network.values).astype(np.float32)\n",
    "type(network_)\n",
    "network_"
   ]
  },
  {
   "cell_type": "code",
   "execution_count": 13,
   "metadata": {
    "collapsed": false
   },
   "outputs": [
    {
     "name": "stdout",
     "output_type": "stream",
     "text": [
      "[[ 0.          0.1         0.1        ...,  0.1         0.1         0.1       ]\n",
      " [ 0.1         0.          0.1        ...,  0.1         0.1         0.1       ]\n",
      " [ 0.1         0.1         0.         ...,  0.1         0.1         0.1       ]\n",
      " ..., \n",
      " [ 0.1         0.1         0.1        ...,  0.          0.89999998  0.1       ]\n",
      " [ 0.1         0.1         0.1        ...,  0.89999998  0.          0.1       ]\n",
      " [ 0.1         0.1         0.1        ...,  0.1         0.1         0.        ]]\n"
     ]
    }
   ],
   "source": [
    "# Create the edges\n",
    "np.fill_diagonal(network_, 0)\n",
    "print network_ "
   ]
  },
  {
   "cell_type": "code",
   "execution_count": 14,
   "metadata": {
    "collapsed": true
   },
   "outputs": [],
   "source": [
    "# We transposed the matrix network_ because the origin and target of the edges is inverted for our purposes\n",
    "g = nx.from_numpy_matrix(network_.T, create_using=nx.MultiDiGraph())"
   ]
  },
  {
   "cell_type": "code",
   "execution_count": null,
   "metadata": {
    "collapsed": false
   },
   "outputs": [],
   "source": []
  },
  {
   "cell_type": "code",
   "execution_count": 15,
   "metadata": {
    "collapsed": false
   },
   "outputs": [],
   "source": [
    "# Just for check if the nodes are labeled correctly\n",
    "old_labels = list(g.nodes())"
   ]
  },
  {
   "cell_type": "code",
   "execution_count": 16,
   "metadata": {
    "collapsed": false
   },
   "outputs": [],
   "source": [
    "# Save the old values for checking\n",
    "dict_attributes = dict(zip(old_labels, old_labels))\n",
    "\n",
    "dictlist = [dict() for x in range(len(old_labels))]\n",
    "dictActivityTimeLine = dict(zip(old_labels, dictlist))\n",
    "nx.set_node_attributes(g, 'old_id', dict_attributes)\n",
    "nx.set_node_attributes(g, 'activityTimeLine', dictActivityTimeLine)"
   ]
  },
  {
   "cell_type": "markdown",
   "metadata": {},
   "source": [
    "#### Edges"
   ]
  },
  {
   "cell_type": "code",
   "execution_count": null,
   "metadata": {
    "collapsed": true
   },
   "outputs": [],
   "source": [
    "# Creating a dict on the edges\n",
    "dictlist2 = [(x,y,{0:g.get_edge_data(x,y).values()[0]['weight']}) for x, y in g.edges()]\n",
    "weightslist = [g.get_edge_data(x,y).values()[0]['weight'] for x, y in g.edges()]"
   ]
  },
  {
   "cell_type": "code",
   "execution_count": null,
   "metadata": {
    "collapsed": false
   },
   "outputs": [],
   "source": [
    "#weightslist\n",
    "dictWeightTimeLine = dict(zip(dictlist2,weightslist))"
   ]
  },
  {
   "cell_type": "code",
   "execution_count": null,
   "metadata": {
    "collapsed": false
   },
   "outputs": [],
   "source": [
    "dictWeightTimeLine = dict(zip(dictlist2,weightslist))\n",
    "#dictlist2\n",
    "dictWeightTimeLine"
   ]
  },
  {
   "cell_type": "code",
   "execution_count": null,
   "metadata": {
    "collapsed": false
   },
   "outputs": [],
   "source": [
    "nx.set_edge_attributes(g, name='weightTimeLine', values=dictWeightTimeLine)"
   ]
  },
  {
   "cell_type": "code",
   "execution_count": null,
   "metadata": {
    "collapsed": false
   },
   "outputs": [],
   "source": [
    "g.edges()"
   ]
  },
  {
   "cell_type": "code",
   "execution_count": null,
   "metadata": {
    "collapsed": false
   },
   "outputs": [],
   "source": [
    "g.node[30]"
   ]
  },
  {
   "cell_type": "code",
   "execution_count": null,
   "metadata": {
    "collapsed": false
   },
   "outputs": [],
   "source": [
    "relabel_dict = dict(zip(old_labels, network.columns.values))"
   ]
  },
  {
   "cell_type": "code",
   "execution_count": null,
   "metadata": {
    "collapsed": false
   },
   "outputs": [],
   "source": [
    "g = nx.relabel_nodes(g, relabel_dict)"
   ]
  },
  {
   "cell_type": "code",
   "execution_count": null,
   "metadata": {
    "collapsed": false
   },
   "outputs": [],
   "source": [
    "g.node[1]"
   ]
  },
  {
   "cell_type": "code",
   "execution_count": null,
   "metadata": {
    "collapsed": false
   },
   "outputs": [],
   "source": [
    "g.node['s003']"
   ]
  },
  {
   "cell_type": "code",
   "execution_count": null,
   "metadata": {
    "collapsed": false
   },
   "outputs": [],
   "source": [
    "#states = map(float, states)\n",
    "#dict_states = dict(zip(old_labels, states))\n",
    "nx.set_node_attributes(g, 'state', status_dict)"
   ]
  },
  {
   "cell_type": "code",
   "execution_count": null,
   "metadata": {
    "collapsed": false
   },
   "outputs": [],
   "source": [
    "for node in g.nodes():\n",
    "    state_node = g.node[node]['state']\n",
    "    g.node[node]['activityTimeLine'].update({0:state_node})"
   ]
  },
  {
   "cell_type": "code",
   "execution_count": null,
   "metadata": {
    "collapsed": false
   },
   "outputs": [],
   "source": [
    "print type(g.node['s003']['state'])\n",
    "g.node['s003']"
   ]
  },
  {
   "cell_type": "code",
   "execution_count": null,
   "metadata": {
    "collapsed": false
   },
   "outputs": [],
   "source": [
    "nx.write_gexf(g, 'graph_teen.gexf')"
   ]
  },
  {
   "cell_type": "markdown",
   "metadata": {
    "collapsed": false
   },
   "source": [
    "## Updating the values of edges and states over time\n",
    "Change the values over time"
   ]
  },
  {
   "cell_type": "code",
   "execution_count": null,
   "metadata": {
    "collapsed": true
   },
   "outputs": [],
   "source": [
    "#import edges_update as eu\n",
    "import states_update as su"
   ]
  },
  {
   "cell_type": "code",
   "execution_count": null,
   "metadata": {
    "collapsed": false
   },
   "outputs": [],
   "source": [
    "reload(su)"
   ]
  },
  {
   "cell_type": "code",
   "execution_count": null,
   "metadata": {
    "collapsed": false
   },
   "outputs": [],
   "source": [
    "#g_old = g \n",
    "g_temp = g.copy()\n",
    "for t in range(1,time):\n",
    "    #g_temp = eu.edges_update(g_old, t)\n",
    "    g_new = su.states_update(g_temp, t, 'logistic')\n",
    "    g_temp = g_new"
   ]
  },
  {
   "cell_type": "code",
   "execution_count": null,
   "metadata": {
    "collapsed": false,
    "scrolled": false
   },
   "outputs": [],
   "source": [
    "plt.figure(figsize=(20,10))\n",
    "for node in g_new.nodes():\n",
    "    state_tuples = g_new.node[node]['activityTimeLine'].items()\n",
    "    plt.plot(*zip(*state_tuples))\n",
    "    #plt.show()"
   ]
  },
  {
   "cell_type": "code",
   "execution_count": null,
   "metadata": {
    "collapsed": false
   },
   "outputs": [],
   "source": [
    "g_new.node['s070']"
   ]
  },
  {
   "cell_type": "code",
   "execution_count": null,
   "metadata": {
    "collapsed": false
   },
   "outputs": [],
   "source": [
    "# s004 is the source, and s007 is the target\n",
    "g.get_edge_data('s004', 's007').values()[0]['weight']"
   ]
  },
  {
   "cell_type": "code",
   "execution_count": null,
   "metadata": {
    "collapsed": true
   },
   "outputs": [],
   "source": [
    "g['s070']['s088'][0]['weight'] = 11.9"
   ]
  },
  {
   "cell_type": "code",
   "execution_count": null,
   "metadata": {
    "collapsed": false
   },
   "outputs": [],
   "source": [
    "g['s070']['s055'][0]"
   ]
  },
  {
   "cell_type": "code",
   "execution_count": null,
   "metadata": {
    "collapsed": false,
    "scrolled": true
   },
   "outputs": [],
   "source": [
    "for source, target in g.edges():\n",
    "    if g.get_edge_data(source, target).values()[0]['weight'] > 0.11:\n",
    "        print source, target, g.get_edge_data(source, target).values()[0]['weight']"
   ]
  },
  {
   "cell_type": "code",
   "execution_count": null,
   "metadata": {
    "collapsed": true
   },
   "outputs": [],
   "source": []
  }
 ],
 "metadata": {
  "kernelspec": {
   "display_name": "Python [Root]",
   "language": "python",
   "name": "Python [Root]"
  },
  "language_info": {
   "codemirror_mode": {
    "name": "ipython",
    "version": 2
   },
   "file_extension": ".py",
   "mimetype": "text/x-python",
   "name": "python",
   "nbconvert_exporter": "python",
   "pygments_lexer": "ipython2",
   "version": "2.7.12"
  }
 },
 "nbformat": 4,
 "nbformat_minor": 0
}
